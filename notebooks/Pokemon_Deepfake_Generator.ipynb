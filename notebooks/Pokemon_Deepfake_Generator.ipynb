{
 "cells": [
  {
   "cell_type": "markdown",
   "metadata": {
    "colab_type": "text",
    "id": "nA37NPiRtSK0"
   },
   "source": [
    "# Task 1: Importing Libraries and Helper Functions\n"
   ]
  },
  {
   "cell_type": "code",
   "execution_count": 1,
   "metadata": {
    "colab": {
     "base_uri": "https://localhost:8080/",
     "height": 34
    },
    "colab_type": "code",
    "id": "eBoStgCOlD6V",
    "outputId": "3501d703-d4ea-4e61-fe50-a680326bdc87"
   },
   "outputs": [
    {
     "name": "stdout",
     "output_type": "stream",
     "text": [
      "TensorFlow version: 2.2.0\n"
     ]
    }
   ],
   "source": [
    "%matplotlib notebook\n",
    "\n",
    "import tensorflow as tf\n",
    "import numpy as np\n",
    "import os\n",
    "import random\n",
    "import imageio\n",
    "\n",
    "from matplotlib import pyplot as plt\n",
    "from tensorflow.keras.layers import Dense, Flatten, Conv2D, Conv3D, BatchNormalization\n",
    "from tensorflow.keras.layers import Conv2DTranspose, Conv3DTranspose, Reshape, LeakyReLU, Lambda\n",
    "from tensorflow.keras.models import Model, Sequential\n",
    "from PIL import Image\n",
    "\n",
    "print('TensorFlow version:', tf.__version__)"
   ]
  },
  {
   "cell_type": "markdown",
   "metadata": {
    "colab_type": "text",
    "id": "oARziZfRtSLB"
   },
   "source": [
    "# Task 2: Importing and Plotting the Data"
   ]
  },
  {
   "cell_type": "code",
   "execution_count": 2,
   "metadata": {
    "colab": {
     "base_uri": "https://localhost:8080/",
     "height": 232
    },
    "colab_type": "code",
    "id": "5u940kmj-4As",
    "outputId": "21ebdf1c-a018-467f-dcea-6e4b70c59c28"
   },
   "outputs": [
    {
     "data": {
      "text/plain": [
       "14167"
      ]
     },
     "execution_count": 2,
     "metadata": {},
     "output_type": "execute_result"
    }
   ],
   "source": [
    "x = []\n",
    "size = 96\n",
    "for root, dirs, files in os.walk('../data/Pokemon'):\n",
    "  for f in files:\n",
    "    if 'png' not in f.lower():\n",
    "      continue\n",
    "    feature = imageio.imread(os.path.join(root, f))\n",
    "    try:\n",
    "      resized_feature = np.array(\n",
    "          Image.fromarray(\n",
    "              feature,\n",
    "              mode='RGBA',\n",
    "          ).resize((size, size))\n",
    "      )\n",
    "      x.append(resized_feature / 256)\n",
    "    except:\n",
    "      pass\n",
    "len(x)"
   ]
  },
  {
   "cell_type": "code",
   "execution_count": 3,
   "metadata": {
    "colab": {},
    "colab_type": "code",
    "id": "7ABI8tcq45cr"
   },
   "outputs": [],
   "source": [
    "x = np.stack(x, axis=0) "
   ]
  },
  {
   "cell_type": "code",
   "execution_count": 4,
   "metadata": {
    "colab": {
     "base_uri": "https://localhost:8080/",
     "height": 34
    },
    "colab_type": "code",
    "id": "K0b-J_jb5NKk",
    "outputId": "c39961a9-b68a-4ff8-9c97-8052d64c199a"
   },
   "outputs": [
    {
     "data": {
      "text/plain": [
       "(14167, 96, 96, 4)"
      ]
     },
     "execution_count": 4,
     "metadata": {},
     "output_type": "execute_result"
    }
   ],
   "source": [
    "x.shape"
   ]
  },
  {
   "cell_type": "code",
   "execution_count": 5,
   "metadata": {
    "colab": {
     "base_uri": "https://localhost:8080/",
     "height": 357
    },
    "colab_type": "code",
    "id": "0lpxr2M25zt1",
    "outputId": "d366bd52-fe1f-4c57-8b1c-69c1093c8fb5"
   },
   "outputs": [
    {
     "data": {
      "text/plain": [
       "array([0.        , 0.        , 0.        , 0.        , 0.        ,\n",
       "       0.        , 0.        , 0.        , 0.        , 0.        ,\n",
       "       0.        , 0.        , 0.        , 0.        , 0.        ,\n",
       "       0.3515625 , 0.73828125, 0.3515625 , 0.99609375, 0.99609375,\n",
       "       0.73828125, 0.3515625 , 0.44921875, 0.0625    , 0.0625    ,\n",
       "       0.0625    , 0.0625    , 0.0625    , 0.3515625 , 0.4140625 ,\n",
       "       0.703125  , 0.0625    , 0.22265625, 0.22265625, 0.8671875 ,\n",
       "       0.8671875 , 0.8671875 , 0.8671875 , 0.8671875 , 0.8671875 ,\n",
       "       0.8671875 , 0.8671875 , 0.22265625, 0.99609375, 0.22265625,\n",
       "       0.44921875, 0.54296875, 0.54296875, 0.54296875, 0.54296875,\n",
       "       0.54296875, 0.54296875, 0.44921875, 0.0625    , 0.54296875,\n",
       "       0.54296875, 0.0625    , 0.0625    , 0.22265625, 0.22265625,\n",
       "       0.22265625, 0.22265625, 0.8671875 , 0.8671875 , 0.8671875 ,\n",
       "       0.8671875 , 0.8671875 , 0.22265625, 0.44921875, 0.44921875,\n",
       "       0.44921875, 0.3515625 , 0.0625    , 0.        , 0.        ,\n",
       "       0.        , 0.        , 0.        , 0.        , 0.        ,\n",
       "       0.        , 0.        , 0.        , 0.        , 0.        ,\n",
       "       0.        , 0.        , 0.        , 0.        , 0.        ,\n",
       "       0.        , 0.        , 0.        , 0.        , 0.        ,\n",
       "       0.        ])"
      ]
     },
     "execution_count": 5,
     "metadata": {},
     "output_type": "execute_result"
    }
   ],
   "source": [
    "x[0][:, 50, 0]"
   ]
  },
  {
   "cell_type": "code",
   "execution_count": 6,
   "metadata": {
    "colab": {
     "base_uri": "https://localhost:8080/",
     "height": 113
    },
    "colab_type": "code",
    "id": "Uh2D6e2kxZrP",
    "outputId": "ae55b0dd-f31f-48c3-d12a-268bfd7f3af7"
   },
   "outputs": [
    {
     "data": {
      "image/png": "[encoded data removed]",
      "text/plain": [
       "<PIL.Image.Image image mode=RGBA size=96x96 at 0x13AADB6D0>"
      ]
     },
     "execution_count": 6,
     "metadata": {},
     "output_type": "execute_result"
    }
   ],
   "source": [
    "def Plot(image):\n",
    "  return Image.fromarray((image * 256).astype(np.uint8))\n",
    "\n",
    "Plot(random.choice(x))"
   ]
  },
  {
   "cell_type": "code",
   "execution_count": 7,
   "metadata": {
    "colab": {
     "base_uri": "https://localhost:8080/",
     "height": 34
    },
    "colab_type": "code",
    "id": "16vO094qtSLD",
    "outputId": "c2d3e0c5-bd71-4ceb-eda0-bde2e49766e4"
   },
   "outputs": [
    {
     "data": {
      "text/plain": [
       "(96, 96, 4)"
      ]
     },
     "execution_count": 7,
     "metadata": {},
     "output_type": "execute_result"
    }
   ],
   "source": [
    "x[0].shape"
   ]
  },
  {
   "cell_type": "markdown",
   "metadata": {
    "colab_type": "text",
    "id": "dWhwraYltSLP"
   },
   "source": [
    "# Task 3: Discriminator\n",
    "\n",
    "![Artist and Critic](artist_critic.png)"
   ]
  },
  {
   "cell_type": "code",
   "execution_count": 8,
   "metadata": {
    "colab": {
     "base_uri": "https://localhost:8080/",
     "height": 527
    },
    "colab_type": "code",
    "id": "JHga1nihlD6q",
    "outputId": "47d6a9c6-412f-4dbe-dc29-65f326e6c2c9"
   },
   "outputs": [
    {
     "name": "stdout",
     "output_type": "stream",
     "text": [
      "Model: \"sequential\"\n",
      "_________________________________________________________________\n",
      "Layer (type)                 Output Shape              Param #   \n",
      "=================================================================\n",
      "conv2d (Conv2D)              (None, 47, 47, 64)        2368      \n",
      "_________________________________________________________________\n",
      "leaky_re_lu (LeakyReLU)      (None, 47, 47, 64)        0         \n",
      "_________________________________________________________________\n",
      "batch_normalization (BatchNo (None, 47, 47, 64)        256       \n",
      "_________________________________________________________________\n",
      "conv2d_1 (Conv2D)            (None, 22, 22, 128)       204928    \n",
      "_________________________________________________________________\n",
      "leaky_re_lu_1 (LeakyReLU)    (None, 22, 22, 128)       0         \n",
      "_________________________________________________________________\n",
      "batch_normalization_1 (Batch (None, 22, 22, 128)       512       \n",
      "_________________________________________________________________\n",
      "conv2d_2 (Conv2D)            (None, 9, 9, 256)         819456    \n",
      "_________________________________________________________________\n",
      "leaky_re_lu_2 (LeakyReLU)    (None, 9, 9, 256)         0         \n",
      "_________________________________________________________________\n",
      "batch_normalization_2 (Batch (None, 9, 9, 256)         1024      \n",
      "_________________________________________________________________\n",
      "flatten (Flatten)            (None, 20736)             0         \n",
      "_________________________________________________________________\n",
      "dense (Dense)                (None, 1)                 20737     \n",
      "=================================================================\n",
      "Total params: 1,049,281\n",
      "Trainable params: 1,048,385\n",
      "Non-trainable params: 896\n",
      "_________________________________________________________________\n"
     ]
    }
   ],
   "source": [
    "\n",
    "channels = 4\n",
    "noise_dim = 2\n",
    "\n",
    "discriminator = Sequential([\n",
    "    Conv2D(64, 3, strides=2, input_shape=(size, size, channels)),\n",
    "    LeakyReLU(),\n",
    "    BatchNormalization(),\n",
    "    \n",
    "    Conv2D(128, 5, strides=2),\n",
    "    LeakyReLU(),\n",
    "    BatchNormalization(),\n",
    "    \n",
    "    Conv2D(256, 5, strides=2),\n",
    "    LeakyReLU(),\n",
    "    BatchNormalization(),\n",
    "    \n",
    "    Flatten(),\n",
    "    Dense(1, activation='sigmoid')\n",
    "])\n",
    "\n",
    "opt = tf.keras.optimizers.Adam(lr=2e-4, beta_1=0.5)\n",
    "\n",
    "discriminator.compile(loss='binary_crossentropy', optimizer=opt, metrics=['accuracy'])\n",
    "discriminator.summary()"
   ]
  },
  {
   "cell_type": "markdown",
   "metadata": {
    "colab_type": "text",
    "id": "vJCxu87WtSLW"
   },
   "source": [
    "# Task 4: Generator"
   ]
  },
  {
   "cell_type": "code",
   "execution_count": 9,
   "metadata": {
    "colab": {
     "base_uri": "https://localhost:8080/",
     "height": 595
    },
    "colab_type": "code",
    "id": "-8mG_PlhlD6s",
    "outputId": "9b160993-bbac-46d5-8155-22212ef20495"
   },
   "outputs": [
    {
     "name": "stdout",
     "output_type": "stream",
     "text": [
      "Model: \"sequential_1\"\n",
      "_________________________________________________________________\n",
      "Layer (type)                 Output Shape              Param #   \n",
      "=================================================================\n",
      "dense_1 (Dense)              (None, 1024)              3072      \n",
      "_________________________________________________________________\n",
      "reshape (Reshape)            (None, 1, 1, 1024)        0         \n",
      "_________________________________________________________________\n",
      "conv2d_transpose (Conv2DTran (None, 5, 5, 512)         13107712  \n",
      "_________________________________________________________________\n",
      "batch_normalization_3 (Batch (None, 5, 5, 512)         2048      \n",
      "_________________________________________________________________\n",
      "conv2d_transpose_1 (Conv2DTr (None, 9, 9, 256)         3277056   \n",
      "_________________________________________________________________\n",
      "batch_normalization_4 (Batch (None, 9, 9, 256)         1024      \n",
      "_________________________________________________________________\n",
      "conv2d_transpose_2 (Conv2DTr (None, 21, 21, 128)       819328    \n",
      "_________________________________________________________________\n",
      "batch_normalization_5 (Batch (None, 21, 21, 128)       512       \n",
      "_________________________________________________________________\n",
      "conv2d_transpose_3 (Conv2DTr (None, 45, 45, 64)        204864    \n",
      "_________________________________________________________________\n",
      "batch_normalization_6 (Batch (None, 45, 45, 64)        256       \n",
      "_________________________________________________________________\n",
      "conv2d_transpose_4 (Conv2DTr (None, 93, 93, 32)        51232     \n",
      "_________________________________________________________________\n",
      "batch_normalization_7 (Batch (None, 93, 93, 32)        128       \n",
      "_________________________________________________________________\n",
      "conv2d_transpose_5 (Conv2DTr (None, 96, 96, 4)         2052      \n",
      "=================================================================\n",
      "Total params: 17,469,284\n",
      "Trainable params: 17,467,300\n",
      "Non-trainable params: 1,984\n",
      "_________________________________________________________________\n"
     ]
    }
   ],
   "source": [
    "generator = Sequential([\n",
    "    Dense(1024, activation='relu', input_shape=(noise_dim,)),\n",
    "    Reshape((1, 1, 1024)),\n",
    "    \n",
    "    Conv2DTranspose(512, 5, activation='relu'),\n",
    "    BatchNormalization(),\n",
    "    \n",
    "    Conv2DTranspose(256, 5, activation='relu'),\n",
    "    BatchNormalization(),\n",
    "\n",
    "    Conv2DTranspose(128, 5, strides=2, activation='relu'),\n",
    "    BatchNormalization(),\n",
    "\n",
    "    Conv2DTranspose(64, 5, strides=2, activation='relu'),\n",
    "    BatchNormalization(),\n",
    "\n",
    "    Conv2DTranspose(32, 5, strides=2, activation='relu'),\n",
    "    BatchNormalization(),\n",
    "\n",
    "    Conv2DTranspose(4, 4, activation='sigmoid'),\n",
    "])\n",
    "\n",
    "generator.summary()"
   ]
  },
  {
   "cell_type": "code",
   "execution_count": 10,
   "metadata": {
    "colab": {
     "base_uri": "https://localhost:8080/",
     "height": 113
    },
    "colab_type": "code",
    "id": "pSb3O5MDlD6u",
    "outputId": "524a4dbf-9c0c-4477-df22-efddf14b7fd8"
   },
   "outputs": [
    {
     "data": {
      "image/png": "[encoded data removed]",
      "text/plain": [
       "<PIL.Image.Image image mode=RGBA size=96x96 at 0x23412EF50>"
      ]
     },
     "execution_count": 10,
     "metadata": {},
     "output_type": "execute_result"
    }
   ],
   "source": [
    "noise = np.random.randn(1, noise_dim)\n",
    "gen_image = generator.predict(noise)[0]\n",
    "\n",
    "assert gen_image.shape == x[0].shape\n",
    "Plot(x[0])"
   ]
  },
  {
   "cell_type": "code",
   "execution_count": 11,
   "metadata": {
    "colab": {
     "base_uri": "https://localhost:8080/",
     "height": 113
    },
    "colab_type": "code",
    "id": "r9DnOURC14Kg",
    "outputId": "dd1d1744-8d5a-499e-b482-6b342dbfbad7"
   },
   "outputs": [
    {
     "data": {
      "image/png": "[encoded data removed]",
      "text/plain": [
       "<PIL.Image.Image image mode=RGBA size=96x96 at 0x10811DF50>"
      ]
     },
     "execution_count": 11,
     "metadata": {},
     "output_type": "execute_result"
    }
   ],
   "source": [
    "Plot(gen_image)"
   ]
  },
  {
   "cell_type": "markdown",
   "metadata": {
    "colab_type": "text",
    "id": "l4XdXeiEtSLh"
   },
   "source": [
    "# Task 5: Generative Adversarial Network (GAN)"
   ]
  },
  {
   "cell_type": "code",
   "execution_count": 12,
   "metadata": {
    "colab": {
     "base_uri": "https://localhost:8080/",
     "height": 255
    },
    "colab_type": "code",
    "id": "6YdMQyzclD69",
    "outputId": "81c030a9-193c-4ba9-90b5-2eb1367ea051"
   },
   "outputs": [
    {
     "name": "stdout",
     "output_type": "stream",
     "text": [
      "Model: \"model\"\n",
      "_________________________________________________________________\n",
      "Layer (type)                 Output Shape              Param #   \n",
      "=================================================================\n",
      "input_1 (InputLayer)         [(None, 2)]               0         \n",
      "_________________________________________________________________\n",
      "sequential_1 (Sequential)    (None, 96, 96, 4)         17469284  \n",
      "_________________________________________________________________\n",
      "sequential (Sequential)      (None, 1)                 1049281   \n",
      "=================================================================\n",
      "Total params: 18,518,565\n",
      "Trainable params: 17,467,300\n",
      "Non-trainable params: 1,051,265\n",
      "_________________________________________________________________\n"
     ]
    }
   ],
   "source": [
    "input_layer = tf.keras.layers.Input(shape=(noise_dim,))\n",
    "gen_out = generator(input_layer)\n",
    "disc_out = discriminator(gen_out)\n",
    "\n",
    "gan = Model(\n",
    "    input_layer,\n",
    "    disc_out\n",
    ")\n",
    "\n",
    "discriminator.trainable = False\n",
    "gan.compile(loss='binary_crossentropy', optimizer=opt, metrics=['accuracy'])\n",
    "gan.summary()"
   ]
  },
  {
   "cell_type": "markdown",
   "metadata": {
    "colab_type": "text",
    "id": "eyZDCX5jtSLo"
   },
   "source": [
    "# Tasks 6 and 7: Training the GAN"
   ]
  },
  {
   "cell_type": "code",
   "execution_count": 27,
   "metadata": {
    "colab": {},
    "colab_type": "code",
    "id": "HEb3xQ0LlD6_"
   },
   "outputs": [
    {
     "name": "stdout",
     "output_type": "stream",
     "text": [
      "Steps per epoch= 6\n",
      "INFO:tensorflow:Assets written to: pokemon_gan/assets\n",
      "INFO:tensorflow:Assets written to: pokemon_generator/assets\n",
      "INFO:tensorflow:Assets written to: pokemon_discriminator/assets\n",
      "DiscAcc:0.99 GANLoss:4.60\n",
      "INFO:tensorflow:Assets written to: pokemon_gan/assets\n",
      "INFO:tensorflow:Assets written to: pokemon_generator/assets\n",
      "INFO:tensorflow:Assets written to: pokemon_discriminator/assets\n",
      "DiscAcc:0.50 GANLoss:0.00\n",
      "INFO:tensorflow:Assets written to: pokemon_gan/assets\n",
      "INFO:tensorflow:Assets written to: pokemon_generator/assets\n",
      "INFO:tensorflow:Assets written to: pokemon_discriminator/assets\n",
      "DiscAcc:0.50 GANLoss:0.00\n",
      "INFO:tensorflow:Assets written to: pokemon_gan/assets\n",
      "INFO:tensorflow:Assets written to: pokemon_generator/assets\n",
      "INFO:tensorflow:Assets written to: pokemon_discriminator/assets\n",
      "DiscAcc:0.50 GANLoss:0.00\n",
      "INFO:tensorflow:Assets written to: pokemon_gan/assets\n",
      "INFO:tensorflow:Assets written to: pokemon_generator/assets\n",
      "INFO:tensorflow:Assets written to: pokemon_discriminator/assets\n",
      "DiscAcc:0.66 GANLoss:0.00\n"
     ]
    },
    {
     "ename": "KeyboardInterrupt",
     "evalue": "",
     "output_type": "error",
     "traceback": [
      "\u001b[0;31m---------------------------------------------------------------------------\u001b[0m",
      "\u001b[0;31mKeyboardInterrupt\u001b[0m                         Traceback (most recent call last)",
      "\u001b[0;32m<timed exec>\u001b[0m in \u001b[0;36m<module>\u001b[0;34m\u001b[0m\n",
      "\u001b[0;32m~/Github/jupyter_config/venv/lib/python3.7/site-packages/tensorflow/python/keras/engine/training.py\u001b[0m in \u001b[0;36mtrain_on_batch\u001b[0;34m(self, x, y, sample_weight, class_weight, reset_metrics, return_dict)\u001b[0m\n\u001b[1;32m   1346\u001b[0m                                                     class_weight)\n\u001b[1;32m   1347\u001b[0m       \u001b[0mtrain_function\u001b[0m \u001b[0;34m=\u001b[0m \u001b[0mself\u001b[0m\u001b[0;34m.\u001b[0m\u001b[0mmake_train_function\u001b[0m\u001b[0;34m(\u001b[0m\u001b[0;34m)\u001b[0m\u001b[0;34m\u001b[0m\u001b[0;34m\u001b[0m\u001b[0m\n\u001b[0;32m-> 1348\u001b[0;31m       \u001b[0mlogs\u001b[0m \u001b[0;34m=\u001b[0m \u001b[0mtrain_function\u001b[0m\u001b[0;34m(\u001b[0m\u001b[0miterator\u001b[0m\u001b[0;34m)\u001b[0m\u001b[0;34m\u001b[0m\u001b[0;34m\u001b[0m\u001b[0m\n\u001b[0m\u001b[1;32m   1349\u001b[0m \u001b[0;34m\u001b[0m\u001b[0m\n\u001b[1;32m   1350\u001b[0m     \u001b[0;32mif\u001b[0m \u001b[0mreset_metrics\u001b[0m\u001b[0;34m:\u001b[0m\u001b[0;34m\u001b[0m\u001b[0;34m\u001b[0m\u001b[0m\n",
      "\u001b[0;32m~/Github/jupyter_config/venv/lib/python3.7/site-packages/tensorflow/python/eager/def_function.py\u001b[0m in \u001b[0;36m__call__\u001b[0;34m(self, *args, **kwds)\u001b[0m\n\u001b[1;32m    578\u001b[0m         \u001b[0mxla_context\u001b[0m\u001b[0;34m.\u001b[0m\u001b[0mExit\u001b[0m\u001b[0;34m(\u001b[0m\u001b[0;34m)\u001b[0m\u001b[0;34m\u001b[0m\u001b[0;34m\u001b[0m\u001b[0m\n\u001b[1;32m    579\u001b[0m     \u001b[0;32melse\u001b[0m\u001b[0;34m:\u001b[0m\u001b[0;34m\u001b[0m\u001b[0;34m\u001b[0m\u001b[0m\n\u001b[0;32m--> 580\u001b[0;31m       \u001b[0mresult\u001b[0m \u001b[0;34m=\u001b[0m \u001b[0mself\u001b[0m\u001b[0;34m.\u001b[0m\u001b[0m_call\u001b[0m\u001b[0;34m(\u001b[0m\u001b[0;34m*\u001b[0m\u001b[0margs\u001b[0m\u001b[0;34m,\u001b[0m \u001b[0;34m**\u001b[0m\u001b[0mkwds\u001b[0m\u001b[0;34m)\u001b[0m\u001b[0;34m\u001b[0m\u001b[0;34m\u001b[0m\u001b[0m\n\u001b[0m\u001b[1;32m    581\u001b[0m \u001b[0;34m\u001b[0m\u001b[0m\n\u001b[1;32m    582\u001b[0m     \u001b[0;32mif\u001b[0m \u001b[0mtracing_count\u001b[0m \u001b[0;34m==\u001b[0m \u001b[0mself\u001b[0m\u001b[0;34m.\u001b[0m\u001b[0m_get_tracing_count\u001b[0m\u001b[0;34m(\u001b[0m\u001b[0;34m)\u001b[0m\u001b[0;34m:\u001b[0m\u001b[0;34m\u001b[0m\u001b[0;34m\u001b[0m\u001b[0m\n",
      "\u001b[0;32m~/Github/jupyter_config/venv/lib/python3.7/site-packages/tensorflow/python/eager/def_function.py\u001b[0m in \u001b[0;36m_call\u001b[0;34m(self, *args, **kwds)\u001b[0m\n\u001b[1;32m    609\u001b[0m       \u001b[0;31m# In this case we have created variables on the first call, so we run the\u001b[0m\u001b[0;34m\u001b[0m\u001b[0;34m\u001b[0m\u001b[0;34m\u001b[0m\u001b[0m\n\u001b[1;32m    610\u001b[0m       \u001b[0;31m# defunned version which is guaranteed to never create variables.\u001b[0m\u001b[0;34m\u001b[0m\u001b[0;34m\u001b[0m\u001b[0;34m\u001b[0m\u001b[0m\n\u001b[0;32m--> 611\u001b[0;31m       \u001b[0;32mreturn\u001b[0m \u001b[0mself\u001b[0m\u001b[0;34m.\u001b[0m\u001b[0m_stateless_fn\u001b[0m\u001b[0;34m(\u001b[0m\u001b[0;34m*\u001b[0m\u001b[0margs\u001b[0m\u001b[0;34m,\u001b[0m \u001b[0;34m**\u001b[0m\u001b[0mkwds\u001b[0m\u001b[0;34m)\u001b[0m  \u001b[0;31m# pylint: disable=not-callable\u001b[0m\u001b[0;34m\u001b[0m\u001b[0;34m\u001b[0m\u001b[0m\n\u001b[0m\u001b[1;32m    612\u001b[0m     \u001b[0;32melif\u001b[0m \u001b[0mself\u001b[0m\u001b[0;34m.\u001b[0m\u001b[0m_stateful_fn\u001b[0m \u001b[0;32mis\u001b[0m \u001b[0;32mnot\u001b[0m \u001b[0;32mNone\u001b[0m\u001b[0;34m:\u001b[0m\u001b[0;34m\u001b[0m\u001b[0;34m\u001b[0m\u001b[0m\n\u001b[1;32m    613\u001b[0m       \u001b[0;31m# Release the lock early so that multiple threads can perform the call\u001b[0m\u001b[0;34m\u001b[0m\u001b[0;34m\u001b[0m\u001b[0;34m\u001b[0m\u001b[0m\n",
      "\u001b[0;32m~/Github/jupyter_config/venv/lib/python3.7/site-packages/tensorflow/python/eager/function.py\u001b[0m in \u001b[0;36m__call__\u001b[0;34m(self, *args, **kwargs)\u001b[0m\n\u001b[1;32m   2418\u001b[0m     \u001b[0;32mwith\u001b[0m \u001b[0mself\u001b[0m\u001b[0;34m.\u001b[0m\u001b[0m_lock\u001b[0m\u001b[0;34m:\u001b[0m\u001b[0;34m\u001b[0m\u001b[0;34m\u001b[0m\u001b[0m\n\u001b[1;32m   2419\u001b[0m       \u001b[0mgraph_function\u001b[0m\u001b[0;34m,\u001b[0m \u001b[0margs\u001b[0m\u001b[0;34m,\u001b[0m \u001b[0mkwargs\u001b[0m \u001b[0;34m=\u001b[0m \u001b[0mself\u001b[0m\u001b[0;34m.\u001b[0m\u001b[0m_maybe_define_function\u001b[0m\u001b[0;34m(\u001b[0m\u001b[0margs\u001b[0m\u001b[0;34m,\u001b[0m \u001b[0mkwargs\u001b[0m\u001b[0;34m)\u001b[0m\u001b[0;34m\u001b[0m\u001b[0;34m\u001b[0m\u001b[0m\n\u001b[0;32m-> 2420\u001b[0;31m     \u001b[0;32mreturn\u001b[0m \u001b[0mgraph_function\u001b[0m\u001b[0;34m.\u001b[0m\u001b[0m_filtered_call\u001b[0m\u001b[0;34m(\u001b[0m\u001b[0margs\u001b[0m\u001b[0;34m,\u001b[0m \u001b[0mkwargs\u001b[0m\u001b[0;34m)\u001b[0m  \u001b[0;31m# pylint: disable=protected-access\u001b[0m\u001b[0;34m\u001b[0m\u001b[0;34m\u001b[0m\u001b[0m\n\u001b[0m\u001b[1;32m   2421\u001b[0m \u001b[0;34m\u001b[0m\u001b[0m\n\u001b[1;32m   2422\u001b[0m   \u001b[0;34m@\u001b[0m\u001b[0mproperty\u001b[0m\u001b[0;34m\u001b[0m\u001b[0;34m\u001b[0m\u001b[0m\n",
      "\u001b[0;32m~/Github/jupyter_config/venv/lib/python3.7/site-packages/tensorflow/python/eager/function.py\u001b[0m in \u001b[0;36m_filtered_call\u001b[0;34m(self, args, kwargs)\u001b[0m\n\u001b[1;32m   1663\u001b[0m          if isinstance(t, (ops.Tensor,\n\u001b[1;32m   1664\u001b[0m                            resource_variable_ops.BaseResourceVariable))),\n\u001b[0;32m-> 1665\u001b[0;31m         self.captured_inputs)\n\u001b[0m\u001b[1;32m   1666\u001b[0m \u001b[0;34m\u001b[0m\u001b[0m\n\u001b[1;32m   1667\u001b[0m   \u001b[0;32mdef\u001b[0m \u001b[0m_call_flat\u001b[0m\u001b[0;34m(\u001b[0m\u001b[0mself\u001b[0m\u001b[0;34m,\u001b[0m \u001b[0margs\u001b[0m\u001b[0;34m,\u001b[0m \u001b[0mcaptured_inputs\u001b[0m\u001b[0;34m,\u001b[0m \u001b[0mcancellation_manager\u001b[0m\u001b[0;34m=\u001b[0m\u001b[0;32mNone\u001b[0m\u001b[0;34m)\u001b[0m\u001b[0;34m:\u001b[0m\u001b[0;34m\u001b[0m\u001b[0;34m\u001b[0m\u001b[0m\n",
      "\u001b[0;32m~/Github/jupyter_config/venv/lib/python3.7/site-packages/tensorflow/python/eager/function.py\u001b[0m in \u001b[0;36m_call_flat\u001b[0;34m(self, args, captured_inputs, cancellation_manager)\u001b[0m\n\u001b[1;32m   1744\u001b[0m       \u001b[0;31m# No tape is watching; skip to running the function.\u001b[0m\u001b[0;34m\u001b[0m\u001b[0;34m\u001b[0m\u001b[0;34m\u001b[0m\u001b[0m\n\u001b[1;32m   1745\u001b[0m       return self._build_call_outputs(self._inference_function.call(\n\u001b[0;32m-> 1746\u001b[0;31m           ctx, args, cancellation_manager=cancellation_manager))\n\u001b[0m\u001b[1;32m   1747\u001b[0m     forward_backward = self._select_forward_and_backward_functions(\n\u001b[1;32m   1748\u001b[0m         \u001b[0margs\u001b[0m\u001b[0;34m,\u001b[0m\u001b[0;34m\u001b[0m\u001b[0;34m\u001b[0m\u001b[0m\n",
      "\u001b[0;32m~/Github/jupyter_config/venv/lib/python3.7/site-packages/tensorflow/python/eager/function.py\u001b[0m in \u001b[0;36mcall\u001b[0;34m(self, ctx, args, cancellation_manager)\u001b[0m\n\u001b[1;32m    596\u001b[0m               \u001b[0minputs\u001b[0m\u001b[0;34m=\u001b[0m\u001b[0margs\u001b[0m\u001b[0;34m,\u001b[0m\u001b[0;34m\u001b[0m\u001b[0;34m\u001b[0m\u001b[0m\n\u001b[1;32m    597\u001b[0m               \u001b[0mattrs\u001b[0m\u001b[0;34m=\u001b[0m\u001b[0mattrs\u001b[0m\u001b[0;34m,\u001b[0m\u001b[0;34m\u001b[0m\u001b[0;34m\u001b[0m\u001b[0m\n\u001b[0;32m--> 598\u001b[0;31m               ctx=ctx)\n\u001b[0m\u001b[1;32m    599\u001b[0m         \u001b[0;32melse\u001b[0m\u001b[0;34m:\u001b[0m\u001b[0;34m\u001b[0m\u001b[0;34m\u001b[0m\u001b[0m\n\u001b[1;32m    600\u001b[0m           outputs = execute.execute_with_cancellation(\n",
      "\u001b[0;32m~/Github/jupyter_config/venv/lib/python3.7/site-packages/tensorflow/python/eager/execute.py\u001b[0m in \u001b[0;36mquick_execute\u001b[0;34m(op_name, num_outputs, inputs, attrs, ctx, name)\u001b[0m\n\u001b[1;32m     58\u001b[0m     \u001b[0mctx\u001b[0m\u001b[0;34m.\u001b[0m\u001b[0mensure_initialized\u001b[0m\u001b[0;34m(\u001b[0m\u001b[0;34m)\u001b[0m\u001b[0;34m\u001b[0m\u001b[0;34m\u001b[0m\u001b[0m\n\u001b[1;32m     59\u001b[0m     tensors = pywrap_tfe.TFE_Py_Execute(ctx._handle, device_name, op_name,\n\u001b[0;32m---> 60\u001b[0;31m                                         inputs, attrs, num_outputs)\n\u001b[0m\u001b[1;32m     61\u001b[0m   \u001b[0;32mexcept\u001b[0m \u001b[0mcore\u001b[0m\u001b[0;34m.\u001b[0m\u001b[0m_NotOkStatusException\u001b[0m \u001b[0;32mas\u001b[0m \u001b[0me\u001b[0m\u001b[0;34m:\u001b[0m\u001b[0;34m\u001b[0m\u001b[0;34m\u001b[0m\u001b[0m\n\u001b[1;32m     62\u001b[0m     \u001b[0;32mif\u001b[0m \u001b[0mname\u001b[0m \u001b[0;32mis\u001b[0m \u001b[0;32mnot\u001b[0m \u001b[0;32mNone\u001b[0m\u001b[0;34m:\u001b[0m\u001b[0;34m\u001b[0m\u001b[0;34m\u001b[0m\u001b[0m\n",
      "\u001b[0;31mKeyboardInterrupt\u001b[0m: "
     ]
    }
   ],
   "source": [
    "%%time\n",
    "\n",
    "epochs = 25\n",
    "num_examples, *_ = x.shape\n",
    "batch_size = num_examples // 3\n",
    "steps_per_epoch = 2 * num_examples //batch_size\n",
    "\n",
    "print('Steps per epoch=', steps_per_epoch)\n",
    "\n",
    "\n",
    "for e in range(0, epochs):\n",
    "    \n",
    "    for step in range(0, steps_per_epoch):\n",
    "        true_examples = x[int(batch_size/2)*step: int(batch_size/2)*(step + 1)]\n",
    "        true_examples = np.reshape(true_examples, (true_examples.shape[0], size, size, channels))\n",
    "\n",
    "        noise = np.random.randn(int(batch_size/2), noise_dim)\n",
    "        generated_examples = generator.predict(noise)\n",
    "\n",
    "        x_batch = np.concatenate([generated_examples, true_examples], axis=0)\n",
    "        y_batch = np.array([0] * int(batch_size/2) + [1] * int(batch_size/2))\n",
    "\n",
    "        indices = np.random.choice(range(batch_size), batch_size, replace=False)\n",
    "        x_batch = x_batch[indices]\n",
    "        y_batch = y_batch[indices]\n",
    "\n",
    "        # train the discriminator\n",
    "        discriminator.trainable = True\n",
    "        discriminator.train_on_batch(x_batch, y_batch)\n",
    "        discriminator.trainable = False\n",
    "\n",
    "        # train the generator\n",
    "        loss, _ = gan.train_on_batch(noise, np.ones((int(batch_size/2), 1)))\n",
    "\n",
    "        _, acc = discriminator.evaluate(x_batch, y_batch, verbose=False)\n",
    "    \n",
    "    gan.save('pokemon_gan')\n",
    "    generator.save('pokemon_generator')\n",
    "    discriminator.save('pokemon_discriminator')\n",
    "\n",
    "    print('DiscAcc:{:.2f}'.format(acc), 'GANLoss:{:.2f}'.format(loss))"
   ]
  },
  {
   "cell_type": "code",
   "execution_count": 28,
   "metadata": {
    "colab": {
     "base_uri": "https://localhost:8080/",
     "height": 130
    },
    "colab_type": "code",
    "id": "qOq9VpH54hCL",
    "outputId": "bd30214e-7773-4a74-b311-cb9a368b4a61"
   },
   "outputs": [
    {
     "name": "stdout",
     "output_type": "stream",
     "text": [
      "[[-1.07526367 -0.60872176]]\n"
     ]
    },
    {
     "data": {
      "image/png": "[encoded data removed]",
      "text/plain": [
       "<PIL.Image.Image image mode=RGBA size=96x96 at 0x1406E3DD0>"
      ]
     },
     "execution_count": 28,
     "metadata": {},
     "output_type": "execute_result"
    }
   ],
   "source": [
    "noise = np.random.randn(1, noise_dim)\n",
    "print(noise)\n",
    "generated_example = generator.predict(noise)[0]\n",
    "\n",
    "Plot(generated_example)\n"
   ]
  },
  {
   "cell_type": "code",
   "execution_count": 29,
   "metadata": {
    "colab": {},
    "colab_type": "code",
    "id": "JGPlk2zY7An9"
   },
   "outputs": [
    {
     "name": "stdout",
     "output_type": "stream",
     "text": [
      "INFO:tensorflow:Assets written to: pokemon_gan/assets\n",
      "INFO:tensorflow:Assets written to: pokemon_generator/assets\n",
      "INFO:tensorflow:Assets written to: pokemon_discriminator/assets\n"
     ]
    }
   ],
   "source": [
    "gan.save('pokemon_gan')\n",
    "generator.save('pokemon_generator')\n",
    "discriminator.save('pokemon_discriminator')"
   ]
  },
  {
   "cell_type": "code",
   "execution_count": null,
   "metadata": {},
   "outputs": [],
   "source": []
  }
 ],
 "metadata": {
  "accelerator": "GPU",
  "colab": {
   "collapsed_sections": [],
   "name": "Pokemon Deepfake Generator.ipynb",
   "provenance": []
  },
  "kernelspec": {
   "display_name": "Python 3",
   "language": "python",
   "name": "python3"
  },
  "language_info": {
   "codemirror_mode": {
    "name": "ipython",
    "version": 3
   },
   "file_extension": ".py",
   "mimetype": "text/x-python",
   "name": "python",
   "nbconvert_exporter": "python",
   "pygments_lexer": "ipython3",
   "version": "3.7.7"
  }
 },
 "nbformat": 4,
 "nbformat_minor": 1
}
